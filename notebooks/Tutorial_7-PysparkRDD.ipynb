{
 "cells": [
  {
   "cell_type": "markdown",
   "id": "d222a7a6-a016-4b3e-9518-b124df1ab5a9",
   "metadata": {},
   "source": [
    "## RDDs are the fundamental data structure in Apache Spark and were designed to meet the challenges of distributed computing, especially for handling large-scale data efficiently"
   ]
  },
  {
   "cell_type": "code",
   "execution_count": 1,
   "id": "61d81853-fdc9-4e10-ae05-9df6c9378b73",
   "metadata": {},
   "outputs": [
    {
     "name": "stderr",
     "output_type": "stream",
     "text": [
      "Setting default log level to \"WARN\".\n",
      "To adjust logging level use sc.setLogLevel(newLevel). For SparkR, use setLogLevel(newLevel).\n",
      "Setting Spark log level to \"ERROR\".\n"
     ]
    },
    {
     "data": {
      "text/html": [
       "\n",
       "            <div>\n",
       "                <p><b>SparkSession - in-memory</b></p>\n",
       "                \n",
       "        <div>\n",
       "            <p><b>SparkContext</b></p>\n",
       "\n",
       "            <p><a href=\"http://ip-172-31-5-207.eu-west-1.compute.internal:4043\">Spark UI</a></p>\n",
       "\n",
       "            <dl>\n",
       "              <dt>Version</dt>\n",
       "                <dd><code>v3.5.0</code></dd>\n",
       "              <dt>Master</dt>\n",
       "                <dd><code>local[*]</code></dd>\n",
       "              <dt>AppName</dt>\n",
       "                <dd><code>pyspark-shell</code></dd>\n",
       "            </dl>\n",
       "        </div>\n",
       "        \n",
       "            </div>\n",
       "        "
      ],
      "text/plain": [
       "<pyspark.sql.session.SparkSession at 0x7efda02ddca0>"
      ]
     },
     "execution_count": 1,
     "metadata": {},
     "output_type": "execute_result"
    }
   ],
   "source": [
    "# import libraries\n",
    "from pyspark.sql import SparkSession\n",
    "from pyspark import SparkContext\n",
    "from pyspark.conf import SparkConf\n",
    "\n",
    "#change config\n",
    "conf = SparkConf()\n",
    "conf.set(\"spark.log.level\", \"error\")  # To display only errors\n",
    "conf.set(\"spark.ui.showConsoleProgress\", \"false\")  # To not display Spark job progress in Python\n",
    "\n",
    "# SparkContext for RDD\n",
    "sc = SparkContext.getOrCreate(conf=conf)\n",
    "\n",
    "# SparkSession for RDD\n",
    "spark = SparkSession.builder.master(\"local\").appName(\"Introduction to DataFrame\").getOrCreate()\n",
    "spark"
   ]
  },
  {
   "cell_type": "markdown",
   "id": "74bcf64c-a58c-422e-bd1e-1eda8d46813d",
   "metadata": {},
   "source": [
    "# Transformations"
   ]
  },
  {
   "cell_type": "markdown",
   "id": "6252d90b-e665-4aae-af1b-9911400c2d1b",
   "metadata": {},
   "source": [
    "### map() - applies function to each element - narrow transformation"
   ]
  },
  {
   "cell_type": "code",
   "execution_count": 2,
   "id": "e96fb60b-5664-493d-8f98-dd7f1b63efd7",
   "metadata": {},
   "outputs": [
    {
     "name": "stdout",
     "output_type": "stream",
     "text": [
      "Values x_map: [1, 2, 3, 4, 5]\n",
      "Values y_map: [(1, 1), (2, 4), (3, 9), (4, 16), (5, 25)]\n"
     ]
    }
   ],
   "source": [
    "#map\n",
    "x_map = sc.parallelize([1, 2, 3, 4, 5])\n",
    "y_map = x_map.map(lambda x: (x,x**2))\n",
    "# collect copies the elements of the RDD to a list\n",
    "print('Values x_map: {0}'.format(x_map.collect()))\n",
    "print('Values y_map: {0}'.format(y_map.collect()))"
   ]
  },
  {
   "cell_type": "code",
   "execution_count": 3,
   "id": "9c02cb29-42e6-4663-a64b-fe52fc79ca89",
   "metadata": {},
   "outputs": [
    {
     "data": {
      "text/plain": [
       "2"
      ]
     },
     "execution_count": 3,
     "metadata": {},
     "output_type": "execute_result"
    }
   ],
   "source": [
    "x_map.getNumPartitions()"
   ]
  },
  {
   "cell_type": "markdown",
   "id": "72cc5eca-f6c4-46f0-9132-259a3b517a58",
   "metadata": {},
   "source": [
    "### filter() - filters elements using a function that return a boolean - narrow transformation"
   ]
  },
  {
   "cell_type": "code",
   "execution_count": 4,
   "id": "e3613bd5-8b70-45a9-82b5-a4adc80995ab",
   "metadata": {},
   "outputs": [
    {
     "name": "stdout",
     "output_type": "stream",
     "text": [
      "Values x_rdd: [1, 2, 3, 4, 5, 6, 7, 8, 9]\n",
      "Values y_filter: [2, 4, 6, 8]\n"
     ]
    }
   ],
   "source": [
    "x_rdd = sc.parallelize([1, 2, 3, 4, 5,6,7,8,9])\n",
    "y_filter = x_rdd.filter(lambda x: x%2 == 0) \n",
    "print('Values x_rdd: {0}'.format(x_rdd.collect()))\n",
    "print('Values y_filter: {0}'.format(y_filter.collect()))"
   ]
  },
  {
   "cell_type": "code",
   "execution_count": 5,
   "id": "1aba1245-1b8c-49eb-9660-89f83acb4063",
   "metadata": {},
   "outputs": [
    {
     "data": {
      "text/plain": [
       "2"
      ]
     },
     "execution_count": 5,
     "metadata": {},
     "output_type": "execute_result"
    }
   ],
   "source": [
    "x_rdd.getNumPartitions()"
   ]
  },
  {
   "cell_type": "markdown",
   "id": "3dbfd33b-a66b-4241-968b-8b3d872d03f2",
   "metadata": {},
   "source": [
    "### flatMap() - applies a function to each element and flattens the result - narrow transformation"
   ]
  },
  {
   "cell_type": "code",
   "execution_count": 6,
   "id": "03466af5-9ee3-4f1f-9d90-06905d1f74d7",
   "metadata": {},
   "outputs": [
    {
     "name": "stdout",
     "output_type": "stream",
     "text": [
      "Values x_flatMap_rdd: [1, 2, 3, 4, 5, 6]\n",
      "Values y_flatMap: [1, 1, 100, 2, 4, 200, 3, 9, 300, 4, 16, 400, 5, 25, 500, 6, 36, 600]\n"
     ]
    }
   ],
   "source": [
    "x_flatMap_rdd = sc.parallelize([1, 2, 3, 4, 5,6])\n",
    "y_flatMap = x_flatMap_rdd.flatMap(lambda x: (x, x**2, 100*x))\n",
    "print('Values x_flatMap_rdd: {0}'.format(x_flatMap_rdd.collect()))\n",
    "print('Values y_flatMap: {0}'.format(y_flatMap.collect()))"
   ]
  },
  {
   "cell_type": "code",
   "execution_count": 7,
   "id": "0b9f4b3e-9d3a-4c69-bdc3-34daddfbaa44",
   "metadata": {},
   "outputs": [
    {
     "data": {
      "text/plain": [
       "2"
      ]
     },
     "execution_count": 7,
     "metadata": {},
     "output_type": "execute_result"
    }
   ],
   "source": [
    "x_flatMap_rdd.getNumPartitions()"
   ]
  },
  {
   "cell_type": "markdown",
   "id": "f4d1ec83-f6b2-42e0-bff0-75b746209965",
   "metadata": {},
   "source": [
    "### mapPartitions() - applies a function to each partition - narrow transformation"
   ]
  },
  {
   "cell_type": "code",
   "execution_count": 8,
   "id": "5cdf26c1-623d-4883-b9ef-25914ecf7f28",
   "metadata": {},
   "outputs": [
    {
     "name": "stdout",
     "output_type": "stream",
     "text": [
      "[[1, 2], [3, 4], [5, 6]]\n",
      "[[3], [7], [11]]\n",
      "[1, 2, 3, 4, 5, 6]\n",
      "[3, 7, 11]\n"
     ]
    }
   ],
   "source": [
    "x = sc.parallelize([1, 2, 3, 4, 5,6], 3)\n",
    "def f(iterator): yield sum(iterator)\n",
    "y=x.mapPartitions(f)\n",
    "# glom() flatterns elements on the same partition\n",
    "print(x.glom().collect())\n",
    "print(y.glom().collect())\n",
    "print(x.collect())\n",
    "print(y.collect())"
   ]
  },
  {
   "cell_type": "code",
   "execution_count": 9,
   "id": "92095872-4946-45a9-9c81-1139fd25830e",
   "metadata": {},
   "outputs": [
    {
     "data": {
      "text/plain": [
       "3"
      ]
     },
     "execution_count": 9,
     "metadata": {},
     "output_type": "execute_result"
    }
   ],
   "source": [
    "x.getNumPartitions()"
   ]
  },
  {
   "cell_type": "markdown",
   "id": "7c0c57a6-051b-44b9-a440-4b85733b720f",
   "metadata": {},
   "source": [
    "### mapPartitionsWithIndex() - narrow transformation"
   ]
  },
  {
   "cell_type": "code",
   "execution_count": 10,
   "id": "204bd7a5-e159-4934-ac33-44c9f47ec86a",
   "metadata": {},
   "outputs": [
    {
     "name": "stdout",
     "output_type": "stream",
     "text": [
      "[[1, 2, 3], [4, 5, 6], [7, 8, 9]]\n",
      "[[(0, 6)], [(1, 15)], [(2, 24)]]\n",
      "[1, 2, 3, 4, 5, 6, 7, 8, 9]\n",
      "[(0, 6), (1, 15), (2, 24)]\n"
     ]
    }
   ],
   "source": [
    "x = sc.parallelize([1, 2, 3, 4, 5, 6, 7, 8, 9], 3)\n",
    "def f(partitionIndex, iterator): yield (partitionIndex, sum(iterator))\n",
    "y = x.mapPartitionsWithIndex(f)\n",
    "print(x.glom().collect())\n",
    "print(y.glom().collect())\n",
    "print(x.collect())\n",
    "print(y.collect())"
   ]
  },
  {
   "cell_type": "code",
   "execution_count": 11,
   "id": "c89d94e5-f1ff-4c0d-b682-6e7c4e8be4f6",
   "metadata": {},
   "outputs": [
    {
     "data": {
      "text/plain": [
       "3"
      ]
     },
     "execution_count": 11,
     "metadata": {},
     "output_type": "execute_result"
    }
   ],
   "source": [
    "x.getNumPartitions()"
   ]
  },
  {
   "cell_type": "markdown",
   "id": "85fe08cb-9719-49bb-9435-aba7e25fe049",
   "metadata": {},
   "source": [
    "### sample() - narrow transformation"
   ]
  },
  {
   "cell_type": "code",
   "execution_count": 12,
   "id": "e9d44380-fba7-4bad-bd3f-4ef83d40bcc6",
   "metadata": {},
   "outputs": [
    {
     "name": "stdout",
     "output_type": "stream",
     "text": [
      "[1, 2, 3, 4, 5, 6, 7, 8, 9]\n",
      "[1, 2, 4, 6, 8, 9]\n"
     ]
    }
   ],
   "source": [
    "x = sc.parallelize([1, 2, 3, 4, 5, 6, 7, 8, 9], 4)\n",
    "y = x.sample(False,0.3)\n",
    "print(x.collect())\n",
    "print(y.collect())"
   ]
  },
  {
   "cell_type": "code",
   "execution_count": 13,
   "id": "3b988af2-2acb-40c4-9b7e-1f1dd3b375c1",
   "metadata": {},
   "outputs": [
    {
     "data": {
      "text/plain": [
       "4"
      ]
     },
     "execution_count": 13,
     "metadata": {},
     "output_type": "execute_result"
    }
   ],
   "source": [
    "x.getNumPartitions()"
   ]
  },
  {
   "cell_type": "markdown",
   "id": "9c61c7b0-c5f7-4c37-b209-46b497c491df",
   "metadata": {},
   "source": [
    "### union() - narrow transformation"
   ]
  },
  {
   "cell_type": "code",
   "execution_count": 14,
   "id": "97673232-70c0-4fa5-9f4b-4e6d6e003281",
   "metadata": {},
   "outputs": [
    {
     "data": {
      "text/plain": [
       "[1, 1, 3, 4, 5, 6, 4, 8, 9, 1, 2, 3, 5, 5, 6, 5, 8, 9]"
      ]
     },
     "execution_count": 14,
     "metadata": {},
     "output_type": "execute_result"
    }
   ],
   "source": [
    "rdd_1 = sc.parallelize([1, 1, 3, 4, 5, 6, 4, 8, 9], 4)\n",
    "rdd_2 = sc.parallelize([1, 2, 3, 5, 5, 6, 5, 8, 9], 3)\n",
    "\n",
    "rdd_1.union(rdd_2).collect()"
   ]
  },
  {
   "cell_type": "markdown",
   "id": "81acd8fe-b567-45be-ba49-788db4f26e71",
   "metadata": {},
   "source": [
    "### intersection - narrow transformation"
   ]
  },
  {
   "cell_type": "code",
   "execution_count": 15,
   "id": "ebc2a55c-6cee-418e-9b33-d288df064474",
   "metadata": {},
   "outputs": [
    {
     "data": {
      "text/plain": [
       "[1, 8, 9, 3, 5, 6]"
      ]
     },
     "execution_count": 15,
     "metadata": {},
     "output_type": "execute_result"
    }
   ],
   "source": [
    "rdd_1 = sc.parallelize([1, 1, 3, 4, 5, 6, 4, 8, 9], 4)\n",
    "rdd_2 = sc.parallelize([1, 2, 3, 5, 5, 6, 5, 8, 9], 3)\n",
    "\n",
    "rdd_1.intersection(rdd_2).collect()"
   ]
  },
  {
   "cell_type": "markdown",
   "id": "01a4410d-2294-4167-aae6-766067ae2ada",
   "metadata": {},
   "source": [
    "### distinct() - return unique elements - wide transformation"
   ]
  },
  {
   "cell_type": "code",
   "execution_count": 16,
   "id": "5f81abfa-c095-41b2-910f-b8126264507a",
   "metadata": {},
   "outputs": [
    {
     "name": "stdout",
     "output_type": "stream",
     "text": [
      "Values x: ['A', 'A', 'B', 'C', 'D', 'E', 'D']\n",
      "Distinct Values y: ['C', 'A', 'B', 'D', 'E']\n"
     ]
    }
   ],
   "source": [
    "x = sc.parallelize(['A','A','B','C','D','E','D'])\n",
    "y = x.distinct()\n",
    "print('Values x: {0}'.format(x.collect()))\n",
    "print('Distinct Values y: {0}'.format(y.collect()))"
   ]
  },
  {
   "cell_type": "markdown",
   "id": "020dec89-aee4-4cab-a463-0089dd42f07c",
   "metadata": {},
   "source": [
    "### groupByKey - group elements by their key - wide transformation"
   ]
  },
  {
   "cell_type": "code",
   "execution_count": 17,
   "id": "3a275bf0-51e7-4a04-82d3-40eca7336c38",
   "metadata": {},
   "outputs": [
    {
     "name": "stdout",
     "output_type": "stream",
     "text": [
      "[('B', 5), ('B', 4), ('A', 3), ('A', 2), ('A', 1)]\n",
      "[('B', [5, 4]), ('A', [3, 2, 1])]\n"
     ]
    }
   ],
   "source": [
    "x = sc.parallelize([('B',5),('B',4),('A',3),('A',2),('A',1)])\n",
    "y = x.groupByKey()\n",
    "print(x.collect())\n",
    "print([(j[0],[i for i in j[1]]) for j in y.collect()])"
   ]
  },
  {
   "cell_type": "markdown",
   "id": "bad6db4b-5b0c-4958-a11e-0db1e304f1b9",
   "metadata": {},
   "source": [
    "### reduceByKey() - aggregates elements by their key before reducing them - wide transformation"
   ]
  },
  {
   "cell_type": "code",
   "execution_count": 18,
   "id": "900d5963-ee56-41eb-a001-138ea8e0be92",
   "metadata": {},
   "outputs": [
    {
     "name": "stdout",
     "output_type": "stream",
     "text": [
      "[('b', 6), ('c', 5), ('a', 4)]\n"
     ]
    }
   ],
   "source": [
    "rdd_reduce = sc.parallelize([(\"a\", 1), (\"b\", 2), (\"a\", 3), (\"b\", 4), (\"c\", 5)], 2)\n",
    "result = rdd_reduce.reduceByKey(lambda x, y: x + y).collect()\n",
    "print(result)"
   ]
  },
  {
   "cell_type": "markdown",
   "id": "35b7a439-8a78-4939-bc7e-9b275cd48788",
   "metadata": {},
   "source": [
    "##### Thank you: https://www.youtube.com/watch?v=ou0MYgLnftg&t=135s"
   ]
  },
  {
   "cell_type": "markdown",
   "id": "6627e291-1af9-47f5-8e0e-a8edb1445b1a",
   "metadata": {},
   "source": [
    "# Actions"
   ]
  },
  {
   "cell_type": "markdown",
   "id": "27603491-719f-48cf-b0fb-f4692d7f3f49",
   "metadata": {},
   "source": [
    "### reduce(), count(), collect(), take(), foreach()"
   ]
  },
  {
   "cell_type": "markdown",
   "id": "90f6f162-7e13-45ce-b2f1-fdd728d143c5",
   "metadata": {},
   "source": [
    "# Shared Variables"
   ]
  },
  {
   "cell_type": "code",
   "execution_count": 19,
   "id": "90159e60-5999-41ef-9fcc-1ff29829c738",
   "metadata": {},
   "outputs": [
    {
     "name": "stdout",
     "output_type": "stream",
     "text": [
      "15\n"
     ]
    }
   ],
   "source": [
    "count = sc.accumulator(0)\n",
    "rdd = sc.parallelize([1,2,3,4,5])\n",
    "\n",
    "def add_count(x):\n",
    "    count.add(x)\n",
    "\n",
    "rdd.foreach(add_count)\n",
    "print(count.value)"
   ]
  },
  {
   "cell_type": "code",
   "execution_count": null,
   "id": "d058dc93-939d-412c-930a-af667fb17fc7",
   "metadata": {},
   "outputs": [],
   "source": []
  }
 ],
 "metadata": {
  "kernelspec": {
   "display_name": "Python 3 (ipykernel)",
   "language": "python",
   "name": "python3"
  },
  "language_info": {
   "codemirror_mode": {
    "name": "ipython",
    "version": 3
   },
   "file_extension": ".py",
   "mimetype": "text/x-python",
   "name": "python",
   "nbconvert_exporter": "python",
   "pygments_lexer": "ipython3",
   "version": "3.8.10"
  }
 },
 "nbformat": 4,
 "nbformat_minor": 5
}
