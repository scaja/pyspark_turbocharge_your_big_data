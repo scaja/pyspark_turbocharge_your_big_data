{
 "cells": [
  {
   "cell_type": "code",
   "execution_count": 85,
   "id": "23f66d74-6280-4128-a70f-c3a9e246c4c3",
   "metadata": {},
   "outputs": [],
   "source": [
    "from pyspark.sql import SparkSession\n",
    "spark=SparkSession.builder.appName('Practiise').getOrCreate()"
   ]
  },
  {
   "cell_type": "code",
   "execution_count": 86,
   "id": "a814df5e-8d73-4e39-9185-bf2f986c4b2e",
   "metadata": {},
   "outputs": [],
   "source": [
    "df_pyspark=spark.read.csv('Tutorial_3_TestData .csv', header=True, inferSchema=True, nullValue=\"NULL\")"
   ]
  },
  {
   "cell_type": "code",
   "execution_count": 87,
   "id": "f45e71e1-6e41-404a-a74f-645001a73e25",
   "metadata": {},
   "outputs": [
    {
     "name": "stdout",
     "output_type": "stream",
     "text": [
      "+------+----+----------+------+\n",
      "|  Name| Age|Experience|Salary|\n",
      "+------+----+----------+------+\n",
      "| Sunny|  52|        10| 30000|\n",
      "|   May|NULL|         5| 20000|\n",
      "|   Bob|  35|         4| 40000|\n",
      "|  Paul|  42|      NULL|  NULL|\n",
      "|Mahesh|  36|         4| 50000|\n",
      "+------+----+----------+------+\n",
      "\n"
     ]
    }
   ],
   "source": [
    "df_pyspark.show()"
   ]
  },
  {
   "cell_type": "code",
   "execution_count": 88,
   "id": "46cf1ffe-b517-4c37-aa05-5a2a89d6413a",
   "metadata": {},
   "outputs": [
    {
     "name": "stdout",
     "output_type": "stream",
     "text": [
      "+----+----------+------+\n",
      "| Age|Experience|Salary|\n",
      "+----+----------+------+\n",
      "|  52|        10| 30000|\n",
      "|NULL|         5| 20000|\n",
      "|  35|         4| 40000|\n",
      "|  42|      NULL|  NULL|\n",
      "|  36|         4| 50000|\n",
      "+----+----------+------+\n",
      "\n"
     ]
    }
   ],
   "source": [
    "df_pyspark.drop('Name').show()"
   ]
  },
  {
   "cell_type": "code",
   "execution_count": 89,
   "id": "d5ae8c55-24c0-4a1b-8fce-dbf016a9a47d",
   "metadata": {},
   "outputs": [
    {
     "data": {
      "text/plain": [
       "DataFrame[Name: string, Age: int, Experience: int, Salary: int]"
      ]
     },
     "execution_count": 89,
     "metadata": {},
     "output_type": "execute_result"
    }
   ],
   "source": [
    "df_pyspark"
   ]
  },
  {
   "cell_type": "code",
   "execution_count": 90,
   "id": "d14510d6-5e09-4d10-a05a-87262fae4f1b",
   "metadata": {},
   "outputs": [
    {
     "name": "stdout",
     "output_type": "stream",
     "text": [
      "+------+---+----------+------+\n",
      "|  Name|Age|Experience|Salary|\n",
      "+------+---+----------+------+\n",
      "| Sunny| 52|        10| 30000|\n",
      "|   Bob| 35|         4| 40000|\n",
      "|Mahesh| 36|         4| 50000|\n",
      "+------+---+----------+------+\n",
      "\n"
     ]
    }
   ],
   "source": [
    "df_pyspark.na.drop().show()"
   ]
  },
  {
   "cell_type": "code",
   "execution_count": 91,
   "id": "bd04b594-93e0-4293-9969-d6598bac1f2c",
   "metadata": {},
   "outputs": [
    {
     "name": "stdout",
     "output_type": "stream",
     "text": [
      "+------+----+----------+------+\n",
      "|  Name| Age|Experience|Salary|\n",
      "+------+----+----------+------+\n",
      "| Sunny|  52|        10| 30000|\n",
      "|   May|NULL|         5| 20000|\n",
      "|   Bob|  35|         4| 40000|\n",
      "|  Paul|  42|      NULL|  NULL|\n",
      "|Mahesh|  36|         4| 50000|\n",
      "+------+----+----------+------+\n",
      "\n"
     ]
    }
   ],
   "source": [
    "df_pyspark.na.drop(how='any',thresh=1).show()"
   ]
  },
  {
   "cell_type": "code",
   "execution_count": 92,
   "id": "57eb9516-b834-46e5-8e19-9686c1471552",
   "metadata": {},
   "outputs": [
    {
     "name": "stdout",
     "output_type": "stream",
     "text": [
      "+------+---+----------+------+\n",
      "|  Name|Age|Experience|Salary|\n",
      "+------+---+----------+------+\n",
      "| Sunny| 52|        10| 30000|\n",
      "|   Bob| 35|         4| 40000|\n",
      "|  Paul| 42|      NULL|  NULL|\n",
      "|Mahesh| 36|         4| 50000|\n",
      "+------+---+----------+------+\n",
      "\n"
     ]
    }
   ],
   "source": [
    "df_pyspark.na.drop(how='any',subset=['Age']).show()"
   ]
  },
  {
   "cell_type": "code",
   "execution_count": 93,
   "id": "cd063443-bd56-40aa-b3ab-49505bdbf4c4",
   "metadata": {},
   "outputs": [
    {
     "name": "stdout",
     "output_type": "stream",
     "text": [
      "+------+----+----------+------+\n",
      "|  Name| Age|Experience|Salary|\n",
      "+------+----+----------+------+\n",
      "| Sunny|  52|        10| 30000|\n",
      "|   May|NULL|         5| 20000|\n",
      "|   Bob|  35|         4| 40000|\n",
      "|  Paul|  42|      NULL|  NULL|\n",
      "|Mahesh|  36|         4| 50000|\n",
      "+------+----+----------+------+\n",
      "\n"
     ]
    }
   ],
   "source": [
    "df_pyspark.na.fill('Missing Values',['Experience','Age']).show()"
   ]
  },
  {
   "cell_type": "code",
   "execution_count": 99,
   "id": "33ff6d90-78b4-455c-ab86-883f3b5e1db0",
   "metadata": {},
   "outputs": [],
   "source": [
    "from pyspark.ml.feature import Imputer\n",
    "imputer = Imputer(\n",
    "    inputCols=['Age','Experience','Salary'],\n",
    "    outputCols=[\"{}_imputed\".format(c) for c in ['Age','Experience','Salary']]\n",
    "    ).setStrategy(\"mean\")"
   ]
  },
  {
   "cell_type": "code",
   "execution_count": 100,
   "id": "796dac30-f8b5-4ba9-ab93-e15f3a80ed09",
   "metadata": {},
   "outputs": [
    {
     "name": "stdout",
     "output_type": "stream",
     "text": [
      "+------+----+----------+------+-----------+------------------+--------------+\n",
      "|  Name| Age|Experience|Salary|Age_imputed|Experience_imputed|Salary_imputed|\n",
      "+------+----+----------+------+-----------+------------------+--------------+\n",
      "| Sunny|  52|        10| 30000|         52|                10|         30000|\n",
      "|   May|NULL|         5| 20000|         41|                 5|         20000|\n",
      "|   Bob|  35|         4| 40000|         35|                 4|         40000|\n",
      "|  Paul|  42|      NULL|  NULL|         42|                 5|         35000|\n",
      "|Mahesh|  36|         4| 50000|         36|                 4|         50000|\n",
      "+------+----+----------+------+-----------+------------------+--------------+\n",
      "\n"
     ]
    }
   ],
   "source": [
    "imputer.fit(df_pyspark).transform(df_pyspark).show()"
   ]
  },
  {
   "cell_type": "code",
   "execution_count": null,
   "id": "ee0578b7-82a0-42d2-8633-11e1adfd11ac",
   "metadata": {},
   "outputs": [],
   "source": []
  }
 ],
 "metadata": {
  "kernelspec": {
   "display_name": "Python 3 (ipykernel)",
   "language": "python",
   "name": "python3"
  },
  "language_info": {
   "codemirror_mode": {
    "name": "ipython",
    "version": 3
   },
   "file_extension": ".py",
   "mimetype": "text/x-python",
   "name": "python",
   "nbconvert_exporter": "python",
   "pygments_lexer": "ipython3",
   "version": "3.8.10"
  }
 },
 "nbformat": 4,
 "nbformat_minor": 5
}
