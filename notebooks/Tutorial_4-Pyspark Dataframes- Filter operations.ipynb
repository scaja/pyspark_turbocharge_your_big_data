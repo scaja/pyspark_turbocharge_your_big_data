{
 "cells": [
  {
   "cell_type": "code",
   "execution_count": 1,
   "id": "e6b2c644-efdd-4f89-8342-9736f548d714",
   "metadata": {},
   "outputs": [],
   "source": [
    "from pyspark.sql import SparkSession"
   ]
  },
  {
   "cell_type": "code",
   "execution_count": 3,
   "id": "01dc0a3c-f69d-4f15-8b6d-9e2de5cc6fee",
   "metadata": {},
   "outputs": [
    {
     "name": "stderr",
     "output_type": "stream",
     "text": [
      "Setting default log level to \"WARN\".\n",
      "To adjust logging level use sc.setLogLevel(newLevel). For SparkR, use setLogLevel(newLevel).\n"
     ]
    }
   ],
   "source": [
    "spark=SparkSession.builder.appName('dataframe').getOrCreate()"
   ]
  },
  {
   "cell_type": "code",
   "execution_count": 7,
   "id": "4ebf82bf-820a-47cd-83b6-ecdfce769e01",
   "metadata": {},
   "outputs": [],
   "source": [
    "df_pyspark=spark.read.csv('Tutorial_3_TestData .csv',  header=True, inferSchema=True, nullValue=\"NULL\")"
   ]
  },
  {
   "cell_type": "code",
   "execution_count": 9,
   "id": "4e03441f-dd2e-491d-8586-063a94a19091",
   "metadata": {},
   "outputs": [
    {
     "name": "stdout",
     "output_type": "stream",
     "text": [
      "+------+----+----------+------+\n",
      "|  Name| Age|Experience|Salary|\n",
      "+------+----+----------+------+\n",
      "| Sunny|  52|        10| 30000|\n",
      "|   May|NULL|         5| 20000|\n",
      "|   Bob|  35|         4| 40000|\n",
      "|  Paul|  42|      NULL|  NULL|\n",
      "|Mahesh|  36|         4| 50000|\n",
      "+------+----+----------+------+\n",
      "\n"
     ]
    }
   ],
   "source": [
    "df_pyspark.show()"
   ]
  },
  {
   "cell_type": "code",
   "execution_count": 10,
   "id": "33718555-6f2a-4628-b5e9-527aa9685c9c",
   "metadata": {},
   "outputs": [
    {
     "name": "stdout",
     "output_type": "stream",
     "text": [
      "+----+----+\n",
      "|Name| Age|\n",
      "+----+----+\n",
      "| May|NULL|\n",
      "+----+----+\n",
      "\n"
     ]
    }
   ],
   "source": [
    "df_pyspark.filter(\"Salary<=20000\").select(['Name','Age']).show()"
   ]
  },
  {
   "cell_type": "code",
   "execution_count": 11,
   "id": "5cd9abc8-4add-4197-8879-1b08df57200e",
   "metadata": {},
   "outputs": [
    {
     "name": "stdout",
     "output_type": "stream",
     "text": [
      "+----+----+----------+------+\n",
      "|Name| Age|Experience|Salary|\n",
      "+----+----+----------+------+\n",
      "| May|NULL|         5| 20000|\n",
      "+----+----+----------+------+\n",
      "\n"
     ]
    }
   ],
   "source": [
    "df_pyspark.filter(df_pyspark['Salary']<=20000).show()"
   ]
  },
  {
   "cell_type": "code",
   "execution_count": 13,
   "id": "832dd88d-f35e-4005-8261-4be01ad7d34f",
   "metadata": {},
   "outputs": [
    {
     "name": "stdout",
     "output_type": "stream",
     "text": [
      "+------+----+----------+------+\n",
      "|  Name| Age|Experience|Salary|\n",
      "+------+----+----------+------+\n",
      "| Sunny|  52|        10| 30000|\n",
      "|   May|NULL|         5| 20000|\n",
      "|   Bob|  35|         4| 40000|\n",
      "|Mahesh|  36|         4| 50000|\n",
      "+------+----+----------+------+\n",
      "\n"
     ]
    }
   ],
   "source": [
    "df_pyspark.filter((df_pyspark['Salary']<=50000) | (df_pyspark['Salary']>=20000)).show()"
   ]
  },
  {
   "cell_type": "code",
   "execution_count": null,
   "id": "15a2b7b6-a18d-4a14-b36b-d6092e911d53",
   "metadata": {},
   "outputs": [],
   "source": []
  }
 ],
 "metadata": {
  "kernelspec": {
   "display_name": "Python 3 (ipykernel)",
   "language": "python",
   "name": "python3"
  },
  "language_info": {
   "codemirror_mode": {
    "name": "ipython",
    "version": 3
   },
   "file_extension": ".py",
   "mimetype": "text/x-python",
   "name": "python",
   "nbconvert_exporter": "python",
   "pygments_lexer": "ipython3",
   "version": "3.8.10"
  }
 },
 "nbformat": 4,
 "nbformat_minor": 5
}
