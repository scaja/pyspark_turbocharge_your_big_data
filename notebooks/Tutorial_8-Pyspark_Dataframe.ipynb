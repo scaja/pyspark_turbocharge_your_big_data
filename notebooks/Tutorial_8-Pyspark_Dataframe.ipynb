{
 "cells": [
  {
   "cell_type": "markdown",
   "id": "140521b3-0414-44b3-837f-86fcbd7b61bd",
   "metadata": {},
   "source": [
    "# DataFrame"
   ]
  },
  {
   "cell_type": "markdown",
   "id": "4d201392-45d4-4227-a5ac-98f78a84c44a",
   "metadata": {},
   "source": [
    "## Create DataFrame"
   ]
  },
  {
   "cell_type": "code",
   "execution_count": 110,
   "id": "1d5a8a06-f458-432b-8b53-83f9d8a9012a",
   "metadata": {},
   "outputs": [],
   "source": [
    "from pyspark.sql import SparkSession\n",
    "\n",
    "spark = SparkSession.builder.appName(\"Spark Course\").master(\"local[*]\").getOrCreate()\n",
    "sc = spark.sparkContext"
   ]
  },
  {
   "cell_type": "code",
   "execution_count": 111,
   "id": "b9f30caa-1938-42c7-874a-11dd8150a8ec",
   "metadata": {},
   "outputs": [],
   "source": [
    "# list\n",
    "L = [[0, \"Oliver\", 30, \"London\", \"January\"],\\\n",
    "     [1, \"Emily\", 26, \"Manchester\", \"February\"],\\\n",
    "     [2, \"James\", 29, \"Birmingham\", \"March\"],\\\n",
    "     [3, \"Sophia\", 35, \"Leeds\", \"April\"],\\\n",
    "     [4, \"Liam\", 22, \"Liverpool\", \"May\"],\\\n",
    "     [5, \"Charlotte\", 28, \"Bristol\", \"June\"],\\\n",
    "     [6, \"Ethan\", 27, \"Sheffield\", \"July\"]]\n",
    "\n",
    "rdd = sc.parallelize(L)"
   ]
  },
  {
   "cell_type": "code",
   "execution_count": 112,
   "id": "3e54e395-e73e-4a96-ad45-7dc283500bf4",
   "metadata": {},
   "outputs": [
    {
     "data": {
      "text/plain": [
       "2"
      ]
     },
     "execution_count": 112,
     "metadata": {},
     "output_type": "execute_result"
    }
   ],
   "source": [
    "rdd.getNumPartitions()"
   ]
  },
  {
   "cell_type": "markdown",
   "id": "97b4c03e-d206-4659-91ff-db687ce44414",
   "metadata": {},
   "source": [
    "### automatic schema"
   ]
  },
  {
   "cell_type": "code",
   "execution_count": 113,
   "id": "f768e6b4-467e-4625-ad1b-961a75855d2d",
   "metadata": {},
   "outputs": [
    {
     "name": "stdout",
     "output_type": "stream",
     "text": [
      "root\n",
      " |-- : long (nullable = true)\n",
      " |-- Name: string (nullable = true)\n",
      " |-- Age: long (nullable = true)\n",
      " |-- City: string (nullable = true)\n",
      " |-- Month: string (nullable = true)\n",
      "\n",
      "+---+---------+---+----------+--------+\n",
      "|   |     Name|Age|      City|   Month|\n",
      "+---+---------+---+----------+--------+\n",
      "|  0|   Oliver| 30|    London| January|\n",
      "|  1|    Emily| 26|Manchester|February|\n",
      "|  2|    James| 29|Birmingham|   March|\n",
      "|  3|   Sophia| 35|     Leeds|   April|\n",
      "|  4|     Liam| 22| Liverpool|     May|\n",
      "|  5|Charlotte| 28|   Bristol|    June|\n",
      "|  6|    Ethan| 27| Sheffield|    July|\n",
      "+---+---------+---+----------+--------+\n",
      "\n"
     ]
    }
   ],
   "source": [
    "df = rdd.toDF([\"\", \"Name\", \"Age\", \"City\", \"Month\"])\n",
    "df.printSchema() \n",
    "df.show()"
   ]
  },
  {
   "cell_type": "markdown",
   "id": "ec804d12-75c4-437d-b93c-f00f0162b555",
   "metadata": {},
   "source": [
    "### specify schema"
   ]
  },
  {
   "cell_type": "code",
   "execution_count": 114,
   "id": "1fa1c10f-2b96-4dd3-926e-359a1988296b",
   "metadata": {},
   "outputs": [],
   "source": [
    "from pyspark.sql.types import StructType, StructField, IntegerType, StringType\n",
    "\n",
    "schema = StructType([StructField(\"\", IntegerType(), False),\\\n",
    "                     StructField(\"Name\", StringType()),\\\n",
    "                     StructField(\"Age\", IntegerType()),\\\n",
    "                     StructField(\"City\", StringType()),\\\n",
    "                     StructField(\"Month\", StringType())])"
   ]
  },
  {
   "cell_type": "code",
   "execution_count": 115,
   "id": "34d8bc3d-4a49-4c1e-8146-fe7b5aed8c6f",
   "metadata": {},
   "outputs": [
    {
     "name": "stdout",
     "output_type": "stream",
     "text": [
      "root\n",
      " |-- : integer (nullable = false)\n",
      " |-- Name: string (nullable = true)\n",
      " |-- Age: integer (nullable = true)\n",
      " |-- City: string (nullable = true)\n",
      " |-- Month: string (nullable = true)\n",
      "\n",
      "+---+---------+---+----------+--------+\n",
      "|   |     Name|Age|      City|   Month|\n",
      "+---+---------+---+----------+--------+\n",
      "|  0|   Oliver| 30|    London| January|\n",
      "|  1|    Emily| 26|Manchester|February|\n",
      "|  2|    James| 29|Birmingham|   March|\n",
      "|  3|   Sophia| 35|     Leeds|   April|\n",
      "|  4|     Liam| 22| Liverpool|     May|\n",
      "|  5|Charlotte| 28|   Bristol|    June|\n",
      "|  6|    Ethan| 27| Sheffield|    July|\n",
      "+---+---------+---+----------+--------+\n",
      "\n"
     ]
    }
   ],
   "source": [
    "df = rdd.toDF(schema)\n",
    "df.printSchema() \n",
    "df.show()"
   ]
  },
  {
   "cell_type": "markdown",
   "id": "ad070ecd-528c-453f-aa69-b237d00bc8b9",
   "metadata": {},
   "source": [
    "## Read data into DataFrame"
   ]
  },
  {
   "cell_type": "markdown",
   "id": "c818396c-9a38-4f8c-b44f-36403ae9d436",
   "metadata": {},
   "source": [
    "### read file csv"
   ]
  },
  {
   "cell_type": "code",
   "execution_count": 116,
   "id": "2ccb784f-7cda-48cf-9087-0a22594d60b0",
   "metadata": {},
   "outputs": [],
   "source": [
    "df = spark.read.option(\"header\", True).option(\"inferSchema\", True).csv(\"/home/ubuntu/pyspark/data/Tutorial_8/CarData.csv\")"
   ]
  },
  {
   "cell_type": "code",
   "execution_count": 117,
   "id": "319edb0b-f355-4a39-a739-67623fd8dce5",
   "metadata": {},
   "outputs": [
    {
     "name": "stdout",
     "output_type": "stream",
     "text": [
      "root\n",
      " |-- Brand: string (nullable = true)\n",
      " |-- Model: string (nullable = true)\n",
      " |-- Year: integer (nullable = true)\n",
      " |-- Type: string (nullable = true)\n",
      " |-- Price: integer (nullable = true)\n",
      "\n",
      "+------+--------+----+--------+-----+\n",
      "| Brand|   Model|Year|    Type|Price|\n",
      "+------+--------+----+--------+-----+\n",
      "| Tesla| Model S|2023|Electric|85000|\n",
      "|  Ford| Mustang|2021|  Petrol|55000|\n",
      "|Toyota| Corolla|2020|  Hybrid|30000|\n",
      "|   BMW|Series 3|2022|  Diesel|45000|\n",
      "|  Audi|      A4|2019|  Petrol|40000|\n",
      "+------+--------+----+--------+-----+\n",
      "\n"
     ]
    }
   ],
   "source": [
    "df.printSchema() \n",
    "df.show()"
   ]
  },
  {
   "cell_type": "code",
   "execution_count": 118,
   "id": "2e7e9cf8-81e4-431d-a7eb-903713d17d62",
   "metadata": {},
   "outputs": [],
   "source": [
    "from pyspark.sql.types import FloatType\n",
    "\n",
    "schema_car = StructType([\n",
    "    StructField(\"ID\", IntegerType(), False),\n",
    "    StructField(\"Brand\", StringType(), True),\n",
    "    StructField(\"Model\", StringType(), True),\n",
    "    StructField(\"Year\", IntegerType(), True),\n",
    "    StructField(\"Type\", StringType(), True),\n",
    "    StructField(\"Price\", FloatType(), True)\n",
    "])"
   ]
  },
  {
   "cell_type": "code",
   "execution_count": 119,
   "id": "7c72817a-3bbd-4bd5-b5fc-d5a0242deb66",
   "metadata": {},
   "outputs": [],
   "source": [
    "df = spark.read.schema(schema_car).option(\"delimiter\", \",\").option(\"header\", True).csv(\"/home/ubuntu/pyspark/data/Tutorial_8/CarData.csv\")"
   ]
  },
  {
   "cell_type": "code",
   "execution_count": 120,
   "id": "2c72e112-dffa-4113-9d88-a3be86b24c51",
   "metadata": {},
   "outputs": [
    {
     "name": "stdout",
     "output_type": "stream",
     "text": [
      "root\n",
      " |-- ID: integer (nullable = true)\n",
      " |-- Brand: string (nullable = true)\n",
      " |-- Model: string (nullable = true)\n",
      " |-- Year: integer (nullable = true)\n",
      " |-- Type: string (nullable = true)\n",
      " |-- Price: float (nullable = true)\n",
      "\n",
      "+----+--------+-----+----+-----+-----+\n",
      "|  ID|   Brand|Model|Year| Type|Price|\n",
      "+----+--------+-----+----+-----+-----+\n",
      "|NULL| Model S| 2023|NULL|85000| NULL|\n",
      "|NULL| Mustang| 2021|NULL|55000| NULL|\n",
      "|NULL| Corolla| 2020|NULL|30000| NULL|\n",
      "|NULL|Series 3| 2022|NULL|45000| NULL|\n",
      "|NULL|      A4| 2019|NULL|40000| NULL|\n",
      "+----+--------+-----+----+-----+-----+\n",
      "\n"
     ]
    }
   ],
   "source": [
    "df.printSchema() \n",
    "df.show()"
   ]
  },
  {
   "cell_type": "markdown",
   "id": "b637f3b4-95c9-44a3-8879-374d7d79f151",
   "metadata": {},
   "source": [
    "### read file json"
   ]
  },
  {
   "cell_type": "code",
   "execution_count": 121,
   "id": "9842ff1d-cde4-4bc3-a7df-c55ba097e507",
   "metadata": {},
   "outputs": [
    {
     "name": "stdout",
     "output_type": "stream",
     "text": [
      "root\n",
      " |-- Brand: string (nullable = true)\n",
      " |-- Model: string (nullable = true)\n",
      " |-- Price: long (nullable = true)\n",
      " |-- Type: string (nullable = true)\n",
      " |-- Year: long (nullable = true)\n",
      "\n",
      "+------+--------+-----+--------+----+\n",
      "| Brand|   Model|Price|    Type|Year|\n",
      "+------+--------+-----+--------+----+\n",
      "| Tesla| Model S|85000|Electric|2023|\n",
      "|  Ford| Mustang|55000|  Petrol|2021|\n",
      "|Toyota| Corolla|30000|  Hybrid|2020|\n",
      "|   BMW|Series 3|45000|  Diesel|2022|\n",
      "|  Audi|      A4|40000|  Petrol|2019|\n",
      "+------+--------+-----+--------+----+\n",
      "\n"
     ]
    }
   ],
   "source": [
    "df = spark.read.option(\"multiLine\",True).json(\"/home/ubuntu/pyspark/data/Tutorial_8/CarData.json\")\n",
    "df.printSchema()\n",
    "df.show()"
   ]
  },
  {
   "cell_type": "code",
   "execution_count": 122,
   "id": "719c4b77-9a48-4434-af98-d13ff42c6eaf",
   "metadata": {},
   "outputs": [
    {
     "name": "stdout",
     "output_type": "stream",
     "text": [
      "+----+------+--------+----+--------+-------+\n",
      "|  ID| Brand|   Model|Year|    Type|  Price|\n",
      "+----+------+--------+----+--------+-------+\n",
      "|NULL| Tesla| Model S|2023|Electric|85000.0|\n",
      "|NULL|  Ford| Mustang|2021|  Petrol|55000.0|\n",
      "|NULL|Toyota| Corolla|2020|  Hybrid|30000.0|\n",
      "|NULL|   BMW|Series 3|2022|  Diesel|45000.0|\n",
      "|NULL|  Audi|      A4|2019|  Petrol|40000.0|\n",
      "+----+------+--------+----+--------+-------+\n",
      "\n",
      "root\n",
      " |-- ID: integer (nullable = true)\n",
      " |-- Brand: string (nullable = true)\n",
      " |-- Model: string (nullable = true)\n",
      " |-- Year: integer (nullable = true)\n",
      " |-- Type: string (nullable = true)\n",
      " |-- Price: float (nullable = true)\n",
      "\n"
     ]
    }
   ],
   "source": [
    "df = spark.read.schema(schema_car).option(\"multiLine\",True).json(\"/home/ubuntu/pyspark/data/Tutorial_8/CarData.json\")\n",
    "df.show()\n",
    "df.printSchema()"
   ]
  },
  {
   "cell_type": "code",
   "execution_count": 123,
   "id": "5f9b42ca-5848-4766-8acf-a8bd9675beca",
   "metadata": {},
   "outputs": [],
   "source": [
    "df.write.parquet(\"/home/ubuntu/pyspark/data/Tutorial_8/CarData.parquet\")"
   ]
  },
  {
   "cell_type": "markdown",
   "id": "1a1a7af1-503c-4841-bb13-55a8156e7756",
   "metadata": {},
   "source": [
    "# Manipulating a DataFrame"
   ]
  },
  {
   "cell_type": "markdown",
   "id": "d3767783-eb64-42ac-84d9-480ffbb1eaf4",
   "metadata": {},
   "source": [
    "## Initial Methods and Exploration of a DataFrame"
   ]
  },
  {
   "cell_type": "code",
   "execution_count": 124,
   "id": "896a5406-13ae-4e9d-b7ec-a8ef6a805d3e",
   "metadata": {},
   "outputs": [
    {
     "name": "stdout",
     "output_type": "stream",
     "text": [
      "root\n",
      " |-- Application Name: string (nullable = true)\n",
      " |-- App Category: string (nullable = true)\n",
      " |-- Average Rating: double (nullable = true)\n",
      " |-- Number of Reviews: integer (nullable = true)\n",
      " |-- App Size: string (nullable = true)\n",
      " |-- Installs: string (nullable = true)\n",
      " |-- App Type: string (nullable = true)\n",
      " |-- Price: string (nullable = true)\n",
      " |-- Content Classification: string (nullable = true)\n",
      " |-- App Genres: string (nullable = true)\n",
      " |-- Update Date: string (nullable = true)\n",
      " |-- Current Version: string (nullable = true)\n",
      " |-- Minimum Android Version: string (nullable = true)\n",
      "\n",
      "+-------------------+--------------+--------------+-----------------+--------+--------+--------+-----+----------------------+--------------------+-----------------+---------------+-----------------------+\n",
      "|   Application Name|  App Category|Average Rating|Number of Reviews|App Size|Installs|App Type|Price|Content Classification|          App Genres|      Update Date|Current Version|Minimum Android Version|\n",
      "+-------------------+--------------+--------------+-----------------+--------+--------+--------+-----+----------------------+--------------------+-----------------+---------------+-----------------------+\n",
      "|    Local cup since|ART_AND_DESIGN|           3.8|           216450|   28.4M|     10+|    Free|    0|                  Teen|Art & Design;Crea...|November 05, 2022|          6.3.2|             4.2 and up|\n",
      "|Player home ago for|ART_AND_DESIGN|           4.5|           152455|    2.3M|100,000+|    Free|    0|                  Teen|        Art & Design|December 10, 2024|          8.8.7|             4.2 and up|\n",
      "| Even even simple I|ART_AND_DESIGN|           4.3|           102501|    8.5M|100,000+|    Free|    0|              Everyone|Art & Design;Crea...|    July 07, 2024|          4.8.7|           4.0.3 and up|\n",
      "+-------------------+--------------+--------------+-----------------+--------+--------+--------+-----+----------------------+--------------------+-----------------+---------------+-----------------------+\n",
      "only showing top 3 rows\n",
      "\n"
     ]
    }
   ],
   "source": [
    "df = spark.read.option(\"header\", True).option(\"inferSchema\", True).option(\"escape\", \"\\\"\").csv(\"/home/ubuntu/pyspark/data/Tutorial_8/AppData.csv\")\n",
    "df.printSchema()\n",
    "df.show(3)"
   ]
  },
  {
   "cell_type": "code",
   "execution_count": 125,
   "id": "26fd9b01-ac34-43da-9b49-7845795824ec",
   "metadata": {},
   "outputs": [
    {
     "name": "stdout",
     "output_type": "stream",
     "text": [
      "[Row(Application Name='Local cup since', App Category='ART_AND_DESIGN', Average Rating=3.8, Number of Reviews=216450, App Size='28.4M', Installs='10+', App Type='Free', Price='0', Content Classification='Teen', App Genres='Art & Design;Creativity', Update Date='November 05, 2022', Current Version='6.3.2', Minimum Android Version='4.2 and up'), Row(Application Name='Player home ago for', App Category='ART_AND_DESIGN', Average Rating=4.5, Number of Reviews=152455, App Size='2.3M', Installs='100,000+', App Type='Free', Price='0', Content Classification='Teen', App Genres='Art & Design', Update Date='December 10, 2024', Current Version='8.8.7', Minimum Android Version='4.2 and up')]\n",
      "[Row(Application Name='Anyone act against head', App Category='ART_AND_DESIGN', Average Rating=3.7, Number of Reviews=261753, App Size='46.2M', Installs='1,000,000+', App Type='Free', Price='0', Content Classification='Everyone', App Genres='Art & Design', Update Date='August 09, 2023', Current Version='2.0.5', Minimum Android Version='4.0.3 and up'), Row(Application Name='Street mean fact would', App Category='ART_AND_DESIGN', Average Rating=4.5, Number of Reviews=99851, App Size='25.3M', Installs='5,000,000+', App Type='Free', Price='0', Content Classification='Teen', App Genres='Art & Design;Creativity', Update Date='December 19, 2023', Current Version='4.9.3', Minimum Android Version='5.0 and up')]\n",
      "Row(Application Name='Local cup since', App Category='ART_AND_DESIGN', Average Rating=3.8, Number of Reviews=216450, App Size='28.4M', Installs='10+', App Type='Free', Price='0', Content Classification='Teen', App Genres='Art & Design;Creativity', Update Date='November 05, 2022', Current Version='6.3.2', Minimum Android Version='4.2 and up')\n"
     ]
    }
   ],
   "source": [
    "print(df.head(2))\n",
    "print(df.tail(2))\n",
    "print(df.first())"
   ]
  },
  {
   "cell_type": "code",
   "execution_count": 126,
   "id": "f9db4e9c-1183-4454-b88b-7507c1a3b3c3",
   "metadata": {},
   "outputs": [
    {
     "name": "stdout",
     "output_type": "stream",
     "text": [
      "+----------------+--------------+--------------+-----------------+--------+--------+--------+-----+----------------------+--------------------+----------------+---------------+-----------------------+\n",
      "|Application Name|  App Category|Average Rating|Number of Reviews|App Size|Installs|App Type|Price|Content Classification|          App Genres|     Update Date|Current Version|Minimum Android Version|\n",
      "+----------------+--------------+--------------+-----------------+--------+--------+--------+-----+----------------------+--------------------+----------------+---------------+-----------------------+\n",
      "|   Later foreign|ART_AND_DESIGN|           3.9|            78776|   33.8M|     50+|    Paid|  $49|              Everyone|Art & Design;Pret...|October 04, 2022|          6.4.3|             5.0 and up|\n",
      "+----------------+--------------+--------------+-----------------+--------+--------+--------+-----+----------------------+--------------------+----------------+---------------+-----------------------+\n",
      "\n"
     ]
    }
   ],
   "source": [
    "df_subset = df.sample(True, 0.001)\n",
    "df_subset.show()"
   ]
  },
  {
   "cell_type": "code",
   "execution_count": 127,
   "id": "cf3924c6-6d79-42f6-b798-15470d01c56c",
   "metadata": {},
   "outputs": [
    {
     "name": "stdout",
     "output_type": "stream",
     "text": [
      "+-------+--------------------+--------------+-----------------+-----------------+--------+--------+--------+-----+----------------------+--------------------+------------------+---------------+-----------------------+\n",
      "|summary|    Application Name|  App Category|   Average Rating|Number of Reviews|App Size|Installs|App Type|Price|Content Classification|          App Genres|       Update Date|Current Version|Minimum Android Version|\n",
      "+-------+--------------------+--------------+-----------------+-----------------+--------+--------+--------+-----+----------------------+--------------------+------------------+---------------+-----------------------+\n",
      "|    min|Ability account h...|ART_AND_DESIGN|              3.0|              670|   10.0M|  1,000+|    Free|   $1|              Everyone|        Art & Design|    April 01, 2022|          1.0.0|           4.0.3 and up|\n",
      "|    13%|                NULL|          NULL|              3.3|            33631|    NULL|    NULL|    NULL|  0.0|                  NULL|                NULL|              NULL|           NULL|                   NULL|\n",
      "|   mean|                NULL|          NULL|3.988800000000001|        146585.09|    NULL|    NULL|    NULL|  0.0|                  NULL|                NULL|              NULL|           NULL|                   NULL|\n",
      "|    max|      Your live wind|ART_AND_DESIGN|              5.0|           299969|    9.9M|500,000+|    Paid|    0|                  Teen|Art & Design;Pret...|September 30, 2024|          9.9.9|             6.0 and up|\n",
      "+-------+--------------------+--------------+-----------------+-----------------+--------+--------+--------+-----+----------------------+--------------------+------------------+---------------+-----------------------+\n",
      "\n"
     ]
    }
   ],
   "source": [
    "df.summary(\"min\",\"13%\",\"mean\",\"max\").show()"
   ]
  },
  {
   "cell_type": "code",
   "execution_count": 128,
   "id": "85da09c0-fbb3-4a25-9ab2-067ed4620c2b",
   "metadata": {},
   "outputs": [
    {
     "name": "stdout",
     "output_type": "stream",
     "text": [
      "+-------+-----------------+\n",
      "|summary|Number of Reviews|\n",
      "+-------+-----------------+\n",
      "|  count|             1000|\n",
      "|   mean|        146585.09|\n",
      "| stddev|87489.29711714429|\n",
      "|    min|              670|\n",
      "|    max|           299969|\n",
      "+-------+-----------------+\n",
      "\n"
     ]
    }
   ],
   "source": [
    "df.describe([\"Number of Reviews\"]).show()"
   ]
  },
  {
   "cell_type": "markdown",
   "id": "86545474-8576-4ec0-830d-c2a7648af073",
   "metadata": {},
   "source": [
    "## Explanation of the Fundamental Concept of Column and Basic Manipulations"
   ]
  },
  {
   "cell_type": "code",
   "execution_count": 129,
   "id": "e887aba7-85be-47a7-adbe-87531440bdbd",
   "metadata": {},
   "outputs": [
    {
     "name": "stdout",
     "output_type": "stream",
     "text": [
      "+-------------------+\n",
      "|   Application Name|\n",
      "+-------------------+\n",
      "|    Local cup since|\n",
      "|Player home ago for|\n",
      "+-------------------+\n",
      "only showing top 2 rows\n",
      "\n",
      "+-------------------+\n",
      "|   Application Name|\n",
      "+-------------------+\n",
      "|    Local cup since|\n",
      "|Player home ago for|\n",
      "+-------------------+\n",
      "only showing top 2 rows\n",
      "\n"
     ]
    }
   ],
   "source": [
    "df.select(\"Application Name\").show(2)\n",
    "df.select(df[\"Application Name\"]).show(2)"
   ]
  },
  {
   "cell_type": "code",
   "execution_count": 130,
   "id": "e4066df8-c830-454f-800d-ba7f57dd4ade",
   "metadata": {},
   "outputs": [
    {
     "name": "stdout",
     "output_type": "stream",
     "text": [
      "+-------------------+\n",
      "|   Application Name|\n",
      "+-------------------+\n",
      "|    Local cup since|\n",
      "|Player home ago for|\n",
      "+-------------------+\n",
      "only showing top 2 rows\n",
      "\n",
      "+-------------------+\n",
      "|   Application Name|\n",
      "+-------------------+\n",
      "|    Local cup since|\n",
      "|Player home ago for|\n",
      "+-------------------+\n",
      "only showing top 2 rows\n",
      "\n",
      "+-------------------+\n",
      "|   Application Name|\n",
      "+-------------------+\n",
      "|    Local cup since|\n",
      "|Player home ago for|\n",
      "+-------------------+\n",
      "only showing top 2 rows\n",
      "\n"
     ]
    }
   ],
   "source": [
    "from pyspark.sql.functions import *\n",
    "\n",
    "df.select(\"Application Name\").show(2)\n",
    "df.select(df[\"Application Name\"]).show(2)\n",
    "df.select(col(\"Application Name\")).show(2)"
   ]
  },
  {
   "cell_type": "code",
   "execution_count": 131,
   "id": "b0851909-a57b-4b81-8715-8ba2646c493b",
   "metadata": {},
   "outputs": [
    {
     "name": "stdout",
     "output_type": "stream",
     "text": [
      "+--------------------+\n",
      "|(Average Rating * 4)|\n",
      "+--------------------+\n",
      "|                15.2|\n",
      "|                18.0|\n",
      "+--------------------+\n",
      "only showing top 2 rows\n",
      "\n"
     ]
    }
   ],
   "source": [
    "df.select(4 * col(\"Average Rating\")).show(2)"
   ]
  },
  {
   "cell_type": "code",
   "execution_count": 132,
   "id": "1d686bf1-7ec3-4349-9b04-988326a934e7",
   "metadata": {},
   "outputs": [
    {
     "name": "stdout",
     "output_type": "stream",
     "text": [
      "+-------------------+--------------+--------------+-----------------+--------+--------+--------+-----+----------------------+--------------------+-----------------+---------------+-----------------------+---------+\n",
      "|   Application Name|  App Category|Average Rating|Number of Reviews|App Size|Installs|App Type|Price|Content Classification|          App Genres|      Update Date|Current Version|Minimum Android Version|Rating/20|\n",
      "+-------------------+--------------+--------------+-----------------+--------+--------+--------+-----+----------------------+--------------------+-----------------+---------------+-----------------------+---------+\n",
      "|    Local cup since|ART_AND_DESIGN|           3.8|           216450|   28.4M|     10+|    Free|    0|                  Teen|Art & Design;Crea...|November 05, 2022|          6.3.2|             4.2 and up|     15.2|\n",
      "|Player home ago for|ART_AND_DESIGN|           4.5|           152455|    2.3M|100,000+|    Free|    0|                  Teen|        Art & Design|December 10, 2024|          8.8.7|             4.2 and up|     18.0|\n",
      "+-------------------+--------------+--------------+-----------------+--------+--------+--------+-----+----------------------+--------------------+-----------------+---------------+-----------------------+---------+\n",
      "only showing top 2 rows\n",
      "\n"
     ]
    }
   ],
   "source": [
    "df_20 = df.withColumn(\"Rating/20\", 4 * col(\"Average Rating\"))\n",
    "df_20.show(2)"
   ]
  },
  {
   "cell_type": "code",
   "execution_count": 133,
   "id": "a8bc7514-1095-4011-bb51-153ef6fffde6",
   "metadata": {},
   "outputs": [
    {
     "name": "stdout",
     "output_type": "stream",
     "text": [
      "+-------------------+--------------+--------------+--------------+--------+--------+--------+-----+----------------------+--------------------+-----------------+---------------+-----------------------+---------+\n",
      "|   Application Name|  App Category|Average Rating|Nbr of Reviews|App Size|Installs|App Type|Price|Content Classification|          App Genres|      Update Date|Current Version|Minimum Android Version|Rating/20|\n",
      "+-------------------+--------------+--------------+--------------+--------+--------+--------+-----+----------------------+--------------------+-----------------+---------------+-----------------------+---------+\n",
      "|    Local cup since|ART_AND_DESIGN|           3.8|        216450|   28.4M|     10+|    Free|    0|                  Teen|Art & Design;Crea...|November 05, 2022|          6.3.2|             4.2 and up|     15.2|\n",
      "|Player home ago for|ART_AND_DESIGN|           4.5|        152455|    2.3M|100,000+|    Free|    0|                  Teen|        Art & Design|December 10, 2024|          8.8.7|             4.2 and up|     18.0|\n",
      "+-------------------+--------------+--------------+--------------+--------+--------+--------+-----+----------------------+--------------------+-----------------+---------------+-----------------------+---------+\n",
      "only showing top 2 rows\n",
      "\n"
     ]
    }
   ],
   "source": [
    "df_renamed = df_20.withColumnRenamed(\"Number of Reviews\", \"Nbr of Reviews\")\n",
    "df_renamed.show(2)"
   ]
  },
  {
   "cell_type": "code",
   "execution_count": 134,
   "id": "67416e4b-3c22-465a-b8ad-87600405f2e2",
   "metadata": {},
   "outputs": [
    {
     "name": "stdout",
     "output_type": "stream",
     "text": [
      "+-------------------+--------------+--------------+--------------+--------+--------+--------+-----+----------------------+--------------------+-----------------+---------------+-----------------------+---------+\n",
      "|   Application Name|  App Category|Average Rating|Nbr of Reviews|App Size|Installs|App Type|Price|Content Classification|          App Genres|      Update Date|Current Version|Minimum Android Version|Rating/20|\n",
      "+-------------------+--------------+--------------+--------------+--------+--------+--------+-----+----------------------+--------------------+-----------------+---------------+-----------------------+---------+\n",
      "|    Local cup since|ART_AND_DESIGN|           3.8|        216450|   28.4M|     10+|    Free|    0|                  Teen|Art & Design;Crea...|November 05, 2022|          6.3.2|             4.2 and up|     15.2|\n",
      "|Player home ago for|ART_AND_DESIGN|           4.5|        152455|    2.3M|100,000+|    Free|    0|                  Teen|        Art & Design|December 10, 2024|          8.8.7|             4.2 and up|     18.0|\n",
      "+-------------------+--------------+--------------+--------------+--------+--------+--------+-----+----------------------+--------------------+-----------------+---------------+-----------------------+---------+\n",
      "only showing top 2 rows\n",
      "\n"
     ]
    }
   ],
   "source": [
    "df_renamed.where((col(\"Rating/20\") > 15) | (col(\"Rating/20\") < 5)).show(2)"
   ]
  },
  {
   "cell_type": "code",
   "execution_count": 135,
   "id": "11f941a4-1970-4a1f-984f-0ac30b7b1d19",
   "metadata": {},
   "outputs": [
    {
     "name": "stdout",
     "output_type": "stream",
     "text": [
      "+-------------------+--------------+--------------+--------------+--------+--------+--------+-----+----------------------+--------------------+-----------------+---------------+-----------------------+---------+----+\n",
      "|   Application Name|  App Category|Average Rating|Nbr of Reviews|App Size|Installs|App Type|Price|Content Classification|          App Genres|      Update Date|Current Version|Minimum Android Version|Rating/20|used|\n",
      "+-------------------+--------------+--------------+--------------+--------+--------+--------+-----+----------------------+--------------------+-----------------+---------------+-----------------------+---------+----+\n",
      "|    Local cup since|ART_AND_DESIGN|           3.8|        216450|   28.4M|     10+|    Free|    0|                  Teen|Art & Design;Crea...|November 05, 2022|          6.3.2|             4.2 and up|     15.2|true|\n",
      "|Player home ago for|ART_AND_DESIGN|           4.5|        152455|    2.3M|100,000+|    Free|    0|                  Teen|        Art & Design|December 10, 2024|          8.8.7|             4.2 and up|     18.0|true|\n",
      "| Even even simple I|ART_AND_DESIGN|           4.3|        102501|    8.5M|100,000+|    Free|    0|              Everyone|Art & Design;Crea...|    July 07, 2024|          4.8.7|           4.0.3 and up|     17.2|true|\n",
      "+-------------------+--------------+--------------+--------------+--------+--------+--------+-----+----------------------+--------------------+-----------------+---------------+-----------------------+---------+----+\n",
      "only showing top 3 rows\n",
      "\n"
     ]
    }
   ],
   "source": [
    "df_used = df_renamed.withColumn(\"used\", when(col(\"Nbr of Reviews\") >= 10000, True).\\\n",
    "                                        otherwise(False))\n",
    "df_used.show(3)"
   ]
  }
 ],
 "metadata": {
  "kernelspec": {
   "display_name": "Python 3 (ipykernel)",
   "language": "python",
   "name": "python3"
  },
  "language_info": {
   "codemirror_mode": {
    "name": "ipython",
    "version": 3
   },
   "file_extension": ".py",
   "mimetype": "text/x-python",
   "name": "python",
   "nbconvert_exporter": "python",
   "pygments_lexer": "ipython3",
   "version": "3.8.10"
  }
 },
 "nbformat": 4,
 "nbformat_minor": 5
}
